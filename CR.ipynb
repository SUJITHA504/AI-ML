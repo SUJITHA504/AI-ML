{
 "cells": [
  {
   "cell_type": "code",
   "execution_count": 1,
   "id": "598ea6f8-3407-44c8-8c10-034b00cd829b",
   "metadata": {},
   "outputs": [],
   "source": [
    "import numpy as np\n"
   ]
  },
  {
   "cell_type": "code",
   "execution_count": 3,
   "id": "e0df4492-30aa-4e81-b2a0-296e37c2ef66",
   "metadata": {},
   "outputs": [
    {
     "name": "stdin",
     "output_type": "stream",
     "text": [
      "enter number of test cases 1\n",
      "Enter the student IDs separated by space:  23 34 45 56 67 78\n"
     ]
    },
    {
     "name": "stdout",
     "output_type": "stream",
     "text": [
      "[False False False False False False]\n"
     ]
    }
   ],
   "source": [
    "\n",
    "def mark_duplicates(ids):\n",
    "    seen = set()\n",
    "    result = []\n",
    "    for id in ids:\n",
    "        if id in seen:\n",
    "            result.append(True)\n",
    "        else:\n",
    "            seen.add(id)\n",
    "            result.append(False)\n",
    "    return np.array(result)\n",
    "\n",
    "t = int(input(\"enter number of test cases\"))\n",
    "\n",
    "for _ in range(t):\n",
    "    input_str = input(\"Enter the student IDs separated by space: \")\n",
    "    ids = np.array(list(map(int, input_str.strip().split())))\n",
    "\n",
    "    print(mark_duplicates(ids))"
   ]
  },
  {
   "cell_type": "code",
   "execution_count": null,
   "id": "c3b11f07-3e24-4755-9f19-017d212c05d5",
   "metadata": {},
   "outputs": [],
   "source": []
  }
 ],
 "metadata": {
  "kernelspec": {
   "display_name": "Python [conda env:base] *",
   "language": "python",
   "name": "conda-base-py"
  },
  "language_info": {
   "codemirror_mode": {
    "name": "ipython",
    "version": 3
   },
   "file_extension": ".py",
   "mimetype": "text/x-python",
   "name": "python",
   "nbconvert_exporter": "python",
   "pygments_lexer": "ipython3",
   "version": "3.13.5"
  }
 },
 "nbformat": 4,
 "nbformat_minor": 5
}
